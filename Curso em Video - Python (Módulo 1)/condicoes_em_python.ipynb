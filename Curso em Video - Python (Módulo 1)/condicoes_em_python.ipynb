{
 "cells": [
  {
   "cell_type": "markdown",
   "metadata": {},
   "source": [
    "## Desafio 28"
   ]
  },
  {
   "cell_type": "code",
   "execution_count": 1,
   "metadata": {},
   "outputs": [],
   "source": [
    "import random"
   ]
  },
  {
   "cell_type": "code",
   "execution_count": 175,
   "metadata": {},
   "outputs": [
    {
     "name": "stdout",
     "output_type": "stream",
     "text": [
      "Digite o número que o computador pensou: 2\n",
      "Você acertou. Eu pensei no numero 2 e você digitou 2!\n"
     ]
    }
   ],
   "source": [
    "x = random.randrange(0,6)\n",
    "a = int (input('Digite o número que o computador pensou: '))\n",
    "if a == x:\n",
    "    print ('Você acertou. Eu pensei no numero {} e você digitou {}!'.format(x,a))\n",
    "else:\n",
    "    print ('Você errou! Eu pensei no numero {} e não no {}'.format(x,a))"
   ]
  },
  {
   "cell_type": "markdown",
   "metadata": {},
   "source": [
    "## Desafio 29"
   ]
  },
  {
   "cell_type": "code",
   "execution_count": 68,
   "metadata": {},
   "outputs": [
    {
     "name": "stdout",
     "output_type": "stream",
     "text": [
      "Digite a velocidade do carro em Km/h: 900\n",
      "Você foi multado! Sua multa foi de: R$ 5740.00.\n"
     ]
    }
   ],
   "source": [
    "v = float (input('Digite a velocidade do carro em Km/h: '))\n",
    "if v > 80:\n",
    "    b = ((v - 80)*7)\n",
    "    print ('Você foi multado! Sua multa foi de: R$ {:.2f}.'.format(b))\n",
    "else:\n",
    "    print ('Você não foi multado!')"
   ]
  },
  {
   "cell_type": "markdown",
   "metadata": {},
   "source": [
    "## Desafio 30"
   ]
  },
  {
   "cell_type": "code",
   "execution_count": 76,
   "metadata": {},
   "outputs": [
    {
     "name": "stdout",
     "output_type": "stream",
     "text": [
      "Digite o número: 100000\n",
      "O número é par.\n"
     ]
    }
   ],
   "source": [
    "v = int (input('Digite o número: '))\n",
    "if v % 2 == 0:\n",
    "    print('O número é par.')\n",
    "else:\n",
    "    print('O número é ímpar.')"
   ]
  },
  {
   "cell_type": "markdown",
   "metadata": {},
   "source": [
    "## Desafio 31"
   ]
  },
  {
   "cell_type": "code",
   "execution_count": 79,
   "metadata": {},
   "outputs": [
    {
     "name": "stdout",
     "output_type": "stream",
     "text": [
      "Digite a distância em KM: 10\n",
      "O valor final da viagem é: 5.0.\n"
     ]
    }
   ],
   "source": [
    "v = float (input('Digite a distância em KM: '))\n",
    "if v >= 200:\n",
    "    f = v * 0.45\n",
    "    print('O valor final da viagem é: {}.'.format(f))\n",
    "else:\n",
    "    f = v * 0.50\n",
    "    print('O valor final da viagem é: {}.'.format(f))"
   ]
  },
  {
   "cell_type": "markdown",
   "metadata": {},
   "source": [
    "## Desafio 32"
   ]
  },
  {
   "cell_type": "code",
   "execution_count": 1,
   "metadata": {},
   "outputs": [
    {
     "name": "stdout",
     "output_type": "stream",
     "text": [
      "Que ano quer analisar? Coloque 0 para analisar o ano atual3\n",
      "O ano 3 não é BISSEXTO\n"
     ]
    }
   ],
   "source": [
    "#Minha Resolução\n",
    "'''a = int (input('Digite o ano: '))\n",
    "if a % 100 == 0 and a % 400 != 0:\n",
    "    print('O ano {} não é bissexto.'.format(a))\n",
    "elif a % 400 == 0:\n",
    "    print('O ano {} é bissexto.'.format(a))\n",
    "elif a % 4 == 0:\n",
    "    print('O ano {} é bissexto.'.format(a))\n",
    "else:\n",
    "    print('O ano {} não é bissexto.'.format(a))'''\n",
    "\n",
    "#Resolução Guanabara\n",
    "\n",
    "from datetime import date\n",
    "ano = int(input('Que ano quer analisar? Coloque 0 para analisar o ano atual'))\n",
    "if ano == 0:\n",
    "    ano = date.today().year\n",
    "if ano % 4 == 0 and ano % 100 != 0 or ano % 400 ==0:\n",
    "    print ('O ano {} é BISSEXTO'.format(ano))\n",
    "else:\n",
    "    print ('O ano {} não é BISSEXTO'.format(ano))"
   ]
  },
  {
   "cell_type": "markdown",
   "metadata": {},
   "source": [
    "## Desafio 33"
   ]
  },
  {
   "cell_type": "code",
   "execution_count": 194,
   "metadata": {},
   "outputs": [
    {
     "name": "stdout",
     "output_type": "stream",
     "text": [
      "Digite o N1: 2\n",
      "Digite o N2: 1\n",
      "Digite o N3: 3\n",
      "O menor número é 1: \n",
      "O maior número é 3: \n"
     ]
    }
   ],
   "source": [
    "#Forma mais difícil \n",
    "a = float (input('Digite o N1: '))\n",
    "b = float (input('Digite o N2: '))\n",
    "c = float (input('Digite o N3: '))\n",
    "\n",
    "#Testando Número 1\n",
    "if a < b and a < c:\n",
    "    if b > c:\n",
    "        print ('O menor número é {:.0f}: '.format(a))\n",
    "        print ('O maior número é {:.0f}: '.format(b))\n",
    "    else:\n",
    "        print ('O menor número é {:.0f}: '.format(a))\n",
    "        print ('O maior número é {:.0f}: '.format(c))\n",
    "        \n",
    "#Testando Número 2\n",
    "elif b < a and b < c:\n",
    "    if a > c:\n",
    "        print ('O menor número é {:.0f}: '.format(b))\n",
    "        print ('O maior número é {:.0f}: '.format(a))\n",
    "    else:\n",
    "        print ('O menor número é {:.0f}: '.format(b))\n",
    "        print ('O maior número é {:.0f}: '.format(c))\n",
    "        \n",
    "#Testando Número 3\n",
    "elif c < a and c < b:\n",
    "    if a > b:\n",
    "        print ('O menor número é {:.0f}: '.format(c))\n",
    "        print ('O maior número é {:.0f}: '.format(a))\n",
    "    else:\n",
    "        print ('O menor número é {:.0f}: '.format(c))\n",
    "        print ('O maior número é {:.0f}: '.format(b))"
   ]
  },
  {
   "cell_type": "code",
   "execution_count": 192,
   "metadata": {},
   "outputs": [
    {
     "name": "stdout",
     "output_type": "stream",
     "text": [
      "Digite o N1: 1\n",
      "Digite o N2: 2\n",
      "Digite o N3: 1\n",
      "O menor número é:  1\n",
      "O menor número é:  2\n"
     ]
    }
   ],
   "source": [
    "#My simplest way\n",
    "a = []\n",
    "a.append(int(input('Digite o N1: ')))\n",
    "a.append(int(input('Digite o N2: ')))\n",
    "a.append(int(input('Digite o N3: ')))\n",
    "print('O menor número é: ', min(a))\n",
    "print('O menor número é: ', max(a))"
   ]
  },
  {
   "cell_type": "code",
   "execution_count": 191,
   "metadata": {},
   "outputs": [
    {
     "name": "stdout",
     "output_type": "stream",
     "text": [
      "Primeiro Valor: 3\n",
      "Segundo Valor: 2\n",
      "Tereiro Valor: 1\n",
      "O menor valor digitado foi 1\n",
      "O maior valor digitado foi 3\n"
     ]
    }
   ],
   "source": [
    "# Guanabara way\n",
    "a = int(input('Primeiro Valor: '))\n",
    "b = int(input('Segundo Valor: '))\n",
    "c = int(input('Tereiro Valor: '))\n",
    "#Verificando quem é menor\n",
    "menor = a\n",
    "if b < a and b < c:\n",
    "    menor = b\n",
    "if c < a and c < b:\n",
    "    menor = c\n",
    "\n",
    "#Verificando quem é maior\n",
    "maior = a\n",
    "if b > a and b > c:\n",
    "    maior = b\n",
    "if c > a and c > b:\n",
    "    maior = c\n",
    "print('O menor valor digitado foi {}'.format(menor))\n",
    "print('O maior valor digitado foi {}'.format(maior))"
   ]
  },
  {
   "cell_type": "markdown",
   "metadata": {},
   "source": [
    "## Desafio 33"
   ]
  },
  {
   "cell_type": "code",
   "execution_count": 150,
   "metadata": {},
   "outputs": [
    {
     "name": "stdout",
     "output_type": "stream",
     "text": [
      "Digite o salário mensal: 800\n",
      "O seu novo salário será R$ 920.0.\n"
     ]
    }
   ],
   "source": [
    "s = float (input('Digite o salário mensal: '))\n",
    "if s >= 1250:\n",
    "    snew = s + (s*10/100)\n",
    "    print ('O seu novo salário será R$ {}.'.format(snew))\n",
    "else:\n",
    "    snew = s + (s*15/100)\n",
    "    print ('O seu novo salário será R$ {}.'.format(snew))"
   ]
  },
  {
   "cell_type": "markdown",
   "metadata": {},
   "source": [
    "## Desafio 34"
   ]
  },
  {
   "cell_type": "code",
   "execution_count": 195,
   "metadata": {},
   "outputs": [
    {
     "name": "stdout",
     "output_type": "stream",
     "text": [
      "Digite o Lado1: 3.5\n",
      "Digite o Lado2: 2.75\n",
      "Digite o Lado3: 4\n",
      "Triângulo possível\n"
     ]
    }
   ],
   "source": [
    "numeros = []\n",
    "numeros.append(float(input('Digite o Lado1: ')))\n",
    "numeros.append(float(input('Digite o Lado2: ')))\n",
    "numeros.append(float(input('Digite o Lado3: ')))\n",
    "numordenados = sorted(numeros)\n",
    "if numordenados[0] + numordenados[1] > numordenados [2]:\n",
    "    print('Triângulo possível')\n",
    "else:\n",
    "    print('Triângulo impossível')"
   ]
  },
  {
   "cell_type": "code",
   "execution_count": null,
   "metadata": {},
   "outputs": [],
   "source": [
    "from math import pow\n",
    "p = float (input('Digite o peso: '))\n",
    "a = float (input('Digite a altura: '))\n",
    "imc = p / pow (a)"
   ]
  },
  {
   "cell_type": "code",
   "execution_count": null,
   "metadata": {},
   "outputs": [],
   "source": []
  }
 ],
 "metadata": {
  "kernelspec": {
   "display_name": "Python 3",
   "language": "python",
   "name": "python3"
  },
  "language_info": {
   "codemirror_mode": {
    "name": "ipython",
    "version": 3
   },
   "file_extension": ".py",
   "mimetype": "text/x-python",
   "name": "python",
   "nbconvert_exporter": "python",
   "pygments_lexer": "ipython3",
   "version": "3.8.5"
  }
 },
 "nbformat": 4,
 "nbformat_minor": 4
}
