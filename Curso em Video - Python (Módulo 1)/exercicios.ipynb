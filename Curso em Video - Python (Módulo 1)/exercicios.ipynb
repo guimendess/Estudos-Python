{
 "cells": [
  {
   "cell_type": "code",
   "execution_count": 1,
   "metadata": {},
   "outputs": [
    {
     "name": "stdout",
     "output_type": "stream",
     "text": [
      "Ólá, qual é o seu nome? Gui\n",
      "Seja bem-vindo, Gui,\n"
     ]
    }
   ],
   "source": [
    "nome = input ('Ólá, qual é o seu nome? ')\n",
    "print ('Seja bem-vindo, {},'.format(nome))"
   ]
  },
  {
   "cell_type": "code",
   "execution_count": 2,
   "metadata": {},
   "outputs": [
    {
     "name": "stdout",
     "output_type": "stream",
     "text": [
      "Qual o seu dia de nascimento?07\n",
      "E o mês?04\n",
      "Em que nao você nasceu?1990\n",
      "Você nasceu no dia 07 de  04 de  1990\n"
     ]
    }
   ],
   "source": [
    "dia = input ('Qual o seu dia de nascimento?')\n",
    "mes = input ('E o mês?')\n",
    "ano = input ('Em que nao você nasceu?')\n",
    "print ('Você nasceu no dia', dia, 'de ', mes, 'de ', ano)"
   ]
  },
  {
   "cell_type": "code",
   "execution_count": 3,
   "metadata": {},
   "outputs": [
    {
     "name": "stdout",
     "output_type": "stream",
     "text": [
      "Digite o primeiro número: 10\n",
      "Digite o segundo número: 10\n",
      "A soma entre 10 e 10 é = 20\n"
     ]
    }
   ],
   "source": [
    "num1 = input ('Digite o primeiro número: ')\n",
    "num2 = input ('Digite o segundo número: ')\n",
    "#print (num1 + num2) esse é pra colocar um numero do lado do outro\n",
    "soma = int (num1) + int (num2)\n",
    "#print ('O resultado é:', (soma))\n",
    "print ('A soma entre {} e {} é = {}'.format (num1, num2, soma))"
   ]
  },
  {
   "cell_type": "code",
   "execution_count": 4,
   "metadata": {},
   "outputs": [
    {
     "name": "stdout",
     "output_type": "stream",
     "text": [
      "False\n"
     ]
    }
   ],
   "source": [
    "print(num1.isalpha())"
   ]
  },
  {
   "cell_type": "markdown",
   "metadata": {},
   "source": [
    "## Desafio 5"
   ]
  },
  {
   "cell_type": "code",
   "execution_count": 5,
   "metadata": {},
   "outputs": [
    {
     "name": "stdout",
     "output_type": "stream",
     "text": [
      "Digite um número: 10\n",
      "O antecessor é:  9\n",
      "O sucesso é:  11\n"
     ]
    }
   ],
   "source": [
    "desafio5 = input ('Digite um número: ')\n",
    "#print (int(desafio5-1),int(desafio5+1))\n",
    "print ('O antecessor é: ',(int (desafio5)-1))\n",
    "print ('O sucesso é: ',(int (desafio5)+1))"
   ]
  },
  {
   "cell_type": "markdown",
   "metadata": {},
   "source": [
    "## Desafio 6"
   ]
  },
  {
   "cell_type": "code",
   "execution_count": 6,
   "metadata": {},
   "outputs": [
    {
     "name": "stdout",
     "output_type": "stream",
     "text": [
      "Digite um número: 10\n",
      "O dobro é:  20\n",
      "O triplo é:  30\n",
      "A raíz quadrada é:  3.1622776601683795\n"
     ]
    }
   ],
   "source": [
    "desafio6 = input ('Digite um número: ')\n",
    "print ('O dobro é: ',(int (desafio6)*2))\n",
    "print ('O triplo é: ',(int (desafio6)*3))\n",
    "print ('A raíz quadrada é: ',(float (desafio6)**(0.5)))"
   ]
  },
  {
   "cell_type": "markdown",
   "metadata": {},
   "source": [
    "## Desafio 7"
   ]
  },
  {
   "cell_type": "code",
   "execution_count": 60,
   "metadata": {},
   "outputs": [
    {
     "name": "stdout",
     "output_type": "stream",
     "text": [
      "Digite a primeira nota: 4.4\n",
      "Digite a segunda nota: 6.7\n",
      "A média é 5.6\n"
     ]
    }
   ],
   "source": [
    "n1 = input ('Digite a primeira nota: ')\n",
    "n2 = input ('Digite a segunda nota: ')\n",
    "lista = (float (n1)+ float (n2))/2\n",
    "print ('A média é {:.1f}'.format(lista))"
   ]
  },
  {
   "cell_type": "markdown",
   "metadata": {},
   "source": [
    "## Desafio 8"
   ]
  },
  {
   "cell_type": "code",
   "execution_count": 12,
   "metadata": {},
   "outputs": [
    {
     "name": "stdout",
     "output_type": "stream",
     "text": [
      "Digite o valor em Metros: 6\n",
      "O valor em centímetros é:  600\n",
      "O valor em mm é:  6000\n"
     ]
    }
   ],
   "source": [
    "m = input ('Digite o valor em Metros: ')\n",
    "resultado1 = int (m) *100\n",
    "resultado2 = int (m) *1000\n",
    "print ('O valor em centímetros é: ', resultado1)\n",
    "print ('O valor em mm é: ', resultado2)"
   ]
  },
  {
   "cell_type": "markdown",
   "metadata": {},
   "source": [
    "# Desafio 9"
   ]
  },
  {
   "cell_type": "code",
   "execution_count": 67,
   "metadata": {},
   "outputs": [
    {
     "name": "stdout",
     "output_type": "stream",
     "text": [
      "Digite o valor para o cálculo: 2\n",
      "Confira a tabuada completa:\n",
      "------------\n",
      "2 x  1 = 2\n",
      "2 x  2 = 4\n",
      "------------\n"
     ]
    }
   ],
   "source": [
    "m = int (input ('Digite o valor para o cálculo: '))\n",
    "print ('Confira a tabuada completa:')\n",
    "print ('-'*12)\n",
    "# print (m,'* 1','=',(int (m)*1))\n",
    "# print (m,'* 2','=',(int (m)*2))\n",
    "# print (m,'* 3','=',(int (m)*3))\n",
    "# print (m,'* 4','=',(int (m)*4))\n",
    "# print (m,'* 5','=',(int (m)*5))\n",
    "# print (m,'* 6','=',(int (m)*6))\n",
    "# print (m,'* 7','=',(int (m)*7))\n",
    "# print (m,'* 8','=',(int (m)*8))\n",
    "# print (m,'* 9','=',(int (m)*9))\n",
    "# print (m,'* 10','=',(int (m)*10))\n",
    "\n",
    "#Uma outra forma de fazer é:\n",
    "print ('{} x {:2} = {}'.format(m,1,m*1))\n",
    "print ('{} x {:2} = {}'.format(m,2,m*2))\n",
    "print ('-'*12)"
   ]
  },
  {
   "cell_type": "markdown",
   "metadata": {},
   "source": [
    "# Desafio 10"
   ]
  },
  {
   "cell_type": "code",
   "execution_count": 34,
   "metadata": {},
   "outputs": [
    {
     "name": "stdout",
     "output_type": "stream",
     "text": [
      "Digite o valor para o cálculo: 90\n",
      "Você pode comprar 27.52 em dólares\n"
     ]
    }
   ],
   "source": [
    "m = input ('Digite o valor para o cálculo: ')\n",
    "print ('Você pode comprar {:.2f}'.format((float (m))/3.27), 'em dólares')"
   ]
  },
  {
   "cell_type": "markdown",
   "metadata": {},
   "source": [
    "# Desafio 11"
   ]
  },
  {
   "cell_type": "code",
   "execution_count": 40,
   "metadata": {},
   "outputs": [
    {
     "name": "stdout",
     "output_type": "stream",
     "text": [
      "Digite o largura: 3\n",
      "Digite o altura: 3\n",
      "A área é de: 9.00\n",
      "Você precisa de: 4.50 litros de tinta\n"
     ]
    }
   ],
   "source": [
    "l = input ('Digite o largura: ')\n",
    "a = input ('Digite o altura: ')\n",
    "resultado = float (l) * float(a)\n",
    "print ('A área é de: {:.2f}'.format(resultado))\n",
    "litragem = resultado/2\n",
    "print ('Você precisa de: {:.2f}'.format(litragem), 'litros de tinta')"
   ]
  },
  {
   "cell_type": "markdown",
   "metadata": {},
   "source": [
    "# Desafio 12"
   ]
  },
  {
   "cell_type": "code",
   "execution_count": 51,
   "metadata": {},
   "outputs": [
    {
     "name": "stdout",
     "output_type": "stream",
     "text": [
      "Digite o preço:5.67\n",
      "O novo valor com o desconto é 5.3865\n"
     ]
    }
   ],
   "source": [
    "m = input ('Digite o preço:') \n",
    "print ('O novo valor com o desconto é', float(m)-(float(m))*0.05)"
   ]
  },
  {
   "cell_type": "markdown",
   "metadata": {},
   "source": [
    "# Desafio 13"
   ]
  },
  {
   "cell_type": "code",
   "execution_count": 54,
   "metadata": {},
   "outputs": [
    {
     "name": "stdout",
     "output_type": "stream",
     "text": [
      "Digite o salário:100\n",
      "O novo salário com o aumento é 115.0\n"
     ]
    }
   ],
   "source": [
    "m = input ('Digite o salário:') \n",
    "print ('O novo salário com o aumento é', float(m)+(float(m))*0.15)"
   ]
  },
  {
   "cell_type": "code",
   "execution_count": null,
   "metadata": {},
   "outputs": [],
   "source": []
  }
 ],
 "metadata": {
  "kernelspec": {
   "display_name": "Python 3",
   "language": "python",
   "name": "python3"
  },
  "language_info": {
   "codemirror_mode": {
    "name": "ipython",
    "version": 3
   },
   "file_extension": ".py",
   "mimetype": "text/x-python",
   "name": "python",
   "nbconvert_exporter": "python",
   "pygments_lexer": "ipython3",
   "version": "3.8.5"
  }
 },
 "nbformat": 4,
 "nbformat_minor": 4
}
