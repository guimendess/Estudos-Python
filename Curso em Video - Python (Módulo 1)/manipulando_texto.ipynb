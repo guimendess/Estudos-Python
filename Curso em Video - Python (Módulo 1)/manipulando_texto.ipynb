{
 "cells": [
  {
   "cell_type": "code",
   "execution_count": 73,
   "metadata": {},
   "outputs": [
    {
     "name": "stdout",
     "output_type": "stream",
     "text": [
      "      testando o comportamento        \n"
     ]
    },
    {
     "data": {
      "text/plain": [
       "'t'"
      ]
     },
     "execution_count": 73,
     "metadata": {},
     "output_type": "execute_result"
    }
   ],
   "source": [
    "frase = '      testando o comportamento        '\n",
    "print (frase)\n",
    "frase[6] #pegando a letra na posição na memória da parte 6"
   ]
  },
  {
   "cell_type": "code",
   "execution_count": 11,
   "metadata": {},
   "outputs": [
    {
     "data": {
      "text/plain": [
       "'testando'"
      ]
     },
     "execution_count": 11,
     "metadata": {},
     "output_type": "execute_result"
    }
   ],
   "source": [
    "frase[0:8] #fatiando um pedaço"
   ]
  },
  {
   "cell_type": "code",
   "execution_count": 14,
   "metadata": {},
   "outputs": [
    {
     "data": {
      "text/plain": [
       "'tsad'"
      ]
     },
     "execution_count": 14,
     "metadata": {},
     "output_type": "execute_result"
    }
   ],
   "source": [
    "frase[0:8:2] #pula de dois em dois"
   ]
  },
  {
   "cell_type": "code",
   "execution_count": 19,
   "metadata": {},
   "outputs": [
    {
     "data": {
      "text/plain": [
       "'testando o comp'"
      ]
     },
     "execution_count": 19,
     "metadata": {},
     "output_type": "execute_result"
    }
   ],
   "source": [
    "frase[:15] #quando nao coloca nada ele considera que começa do 0"
   ]
  },
  {
   "cell_type": "code",
   "execution_count": 20,
   "metadata": {},
   "outputs": [
    {
     "data": {
      "text/plain": [
       "'ortamento'"
      ]
     },
     "execution_count": 20,
     "metadata": {},
     "output_type": "execute_result"
    }
   ],
   "source": [
    "frase[15:] #mesma coisa do de cima, porém até o final"
   ]
  },
  {
   "cell_type": "code",
   "execution_count": 22,
   "metadata": {},
   "outputs": [
    {
     "data": {
      "text/plain": [
       "'tnoocmotmno'"
      ]
     },
     "execution_count": 22,
     "metadata": {},
     "output_type": "execute_result"
    }
   ],
   "source": [
    "frase[3::2] #começa no 3, vai até o final pq tá vazio o segundo campo e pula de dois em dois"
   ]
  },
  {
   "cell_type": "code",
   "execution_count": 44,
   "metadata": {},
   "outputs": [
    {
     "data": {
      "text/plain": [
       "32"
      ]
     },
     "execution_count": 44,
     "metadata": {},
     "output_type": "execute_result"
    }
   ],
   "source": [
    "len(frase) #pega o tamanho da string"
   ]
  },
  {
   "cell_type": "code",
   "execution_count": 27,
   "metadata": {},
   "outputs": [
    {
     "data": {
      "text/plain": [
       "5"
      ]
     },
     "execution_count": 27,
     "metadata": {},
     "output_type": "execute_result"
    }
   ],
   "source": [
    "frase.count('o') #conta quantas vezes tem a letra \"o\""
   ]
  },
  {
   "cell_type": "code",
   "execution_count": 31,
   "metadata": {},
   "outputs": [
    {
     "data": {
      "text/plain": [
       "4"
      ]
     },
     "execution_count": 31,
     "metadata": {},
     "output_type": "execute_result"
    }
   ],
   "source": [
    "frase.count('o',0,20) #conta quantas vezes tem a letra \"o\" dentro do fatiamento 0-7"
   ]
  },
  {
   "cell_type": "code",
   "execution_count": 34,
   "metadata": {},
   "outputs": [
    {
     "data": {
      "text/plain": [
       "-1"
      ]
     },
     "execution_count": 34,
     "metadata": {},
     "output_type": "execute_result"
    }
   ],
   "source": [
    "frase.find('nao') #mostra a posição que começou o trecho. retorna -1 quando nao acha nada"
   ]
  },
  {
   "cell_type": "code",
   "execution_count": 35,
   "metadata": {},
   "outputs": [
    {
     "data": {
      "text/plain": [
       "True"
      ]
     },
     "execution_count": 35,
     "metadata": {},
     "output_type": "execute_result"
    }
   ],
   "source": [
    "'ando' in frase #pegar trecho ou palavra inteira que retorna true e false."
   ]
  },
  {
   "cell_type": "code",
   "execution_count": 36,
   "metadata": {},
   "outputs": [
    {
     "data": {
      "text/plain": [
       "'testando o a máquina'"
      ]
     },
     "execution_count": 36,
     "metadata": {},
     "output_type": "execute_result"
    }
   ],
   "source": [
    "frase.replace('comportamento','a máquina')"
   ]
  },
  {
   "cell_type": "code",
   "execution_count": 41,
   "metadata": {},
   "outputs": [
    {
     "data": {
      "text/plain": [
       "'Testando O Comportamento'"
      ]
     },
     "execution_count": 41,
     "metadata": {},
     "output_type": "execute_result"
    }
   ],
   "source": [
    "#capitalização\n",
    "#frase.upper()\n",
    "#frase.lower()\n",
    "#frase.capitalize()\n",
    "frase.title()"
   ]
  },
  {
   "cell_type": "code",
   "execution_count": 77,
   "metadata": {},
   "outputs": [],
   "source": [
    "#Removendo espaços inúteis no início e fim da frase\n",
    "frase = frase.strip()\n",
    "# se quiser tirar espaço só da direita ou esquerda\n",
    "# frase.rstrip()\n",
    "# frase.lstrip()"
   ]
  },
  {
   "cell_type": "code",
   "execution_count": 78,
   "metadata": {},
   "outputs": [
    {
     "data": {
      "text/plain": [
       "24"
      ]
     },
     "execution_count": 78,
     "metadata": {},
     "output_type": "execute_result"
    }
   ],
   "source": [
    "len(frase)"
   ]
  },
  {
   "cell_type": "code",
   "execution_count": 79,
   "metadata": {},
   "outputs": [
    {
     "data": {
      "text/plain": [
       "['testando', 'o', 'comportamento']"
      ]
     },
     "execution_count": 79,
     "metadata": {},
     "output_type": "execute_result"
    }
   ],
   "source": [
    "#dividir a frase\n",
    "frase.split()"
   ]
  },
  {
   "cell_type": "code",
   "execution_count": 81,
   "metadata": {},
   "outputs": [
    {
     "data": {
      "text/plain": [
       "'t-e-s-t-a-n-d-o- -o- -c-o-m-p-o-r-t-a-m-e-n-t-o'"
      ]
     },
     "execution_count": 81,
     "metadata": {},
     "output_type": "execute_result"
    }
   ],
   "source": [
    "#juntar a frase\n",
    "'-'.join(frase)"
   ]
  },
  {
   "cell_type": "markdown",
   "metadata": {},
   "source": [
    "## Desafio 22"
   ]
  },
  {
   "cell_type": "code",
   "execution_count": 4,
   "metadata": {},
   "outputs": [
    {
     "name": "stdout",
     "output_type": "stream",
     "text": [
      "Digite o seu nome completo: Ana Maria\n",
      "O nome com todas as letras maiusculas:  ANA MARIA\n",
      "O nome com todas as letras maiusculas:  ana maria\n",
      "Quantidade de caracteres no nome sem espaço:  8\n",
      "Quantas letras tem o primeiro nome:  3\n"
     ]
    }
   ],
   "source": [
    "nome = input('Digite o seu nome completo: ').strip()\n",
    "print('O nome com todas as letras maiusculas: ',nome.upper())\n",
    "print('O nome com todas as letras maiusculas: ',nome.lower())\n",
    "print('Quantidade de caracteres no nome sem espaço: ',len(nome.replace(' ',''))) #da pra usar o .strip no input lá em cima também.\n",
    "#também dá pra fazer um count na quantidade de espaços e usar len(nome)-nome.count(' ')\n",
    "nomenew = nome.split()\n",
    "print('Quantas letras tem o primeiro nome: ',len(nomenew[0]))"
   ]
  },
  {
   "cell_type": "markdown",
   "metadata": {},
   "source": [
    "## Desafio 23"
   ]
  },
  {
   "cell_type": "code",
   "execution_count": 148,
   "metadata": {},
   "outputs": [
    {
     "name": "stdout",
     "output_type": "stream",
     "text": [
      "Digite o numero completo: a\n",
      "Unidade:  a\n"
     ]
    }
   ],
   "source": [
    "num = input('Digite o numero completo: ')\n",
    "nnum = ' '.join(num).split()\n",
    "if (len(num)) == 4:\n",
    "    print ('Unidade: ',nnum[3])\n",
    "    print ('Dezena: ',nnum[2])\n",
    "    print ('Centena: ',nnum[1])\n",
    "    print ('Milhar: ',nnum[0])\n",
    "elif (len (num)) == 3:\n",
    "    print ('Unidade: ',nnum[2])\n",
    "    print ('Dezena: ',nnum[1])\n",
    "    print ('Centena: ',nnum[0])\n",
    "elif (len (num)) == 2:\n",
    "    print ('Unidade: ',nnum[1])\n",
    "    print ('Dezena: ',nnum[0])\n",
    "elif (len (num)) == 1:\n",
    "    print ('Unidade: ',nnum[0])"
   ]
  },
  {
   "cell_type": "markdown",
   "metadata": {},
   "source": [
    "## Desafio 23 sem if"
   ]
  },
  {
   "cell_type": "code",
   "execution_count": 8,
   "metadata": {},
   "outputs": [
    {
     "name": "stdout",
     "output_type": "stream",
     "text": [
      "Informe um número: 123\n",
      "Unidade: 3\n",
      "Dezena: 2\n",
      "Centena: 1\n",
      "Milhar: 0\n"
     ]
    }
   ],
   "source": [
    "num = int (input('Informe um número: '))\n",
    "u = num // 1 % 10\n",
    "d = num // 10 % 10\n",
    "c = num // 100 % 10\n",
    "m = num // 1000 % 10\n",
    "print ('Unidade: {}'.format(u))\n",
    "print ('Dezena: {}'.format(d))\n",
    "print ('Centena: {}'.format(c))\n",
    "print ('Milhar: {}'.format(m))"
   ]
  },
  {
   "cell_type": "markdown",
   "metadata": {},
   "source": [
    "## Desafio 24"
   ]
  },
  {
   "cell_type": "code",
   "execution_count": 11,
   "metadata": {},
   "outputs": [
    {
     "name": "stdout",
     "output_type": "stream",
     "text": [
      "Digite o nome da cidade:        santo antonio\n",
      "Sim, começa com SANTO\n"
     ]
    }
   ],
   "source": [
    "cidade = input ('Digite o nome da cidade: ')\n",
    "resultado = cidade.strip().upper().find('SANTO')\n",
    "if resultado ==0:\n",
    "    print ('Sim, começa com SANTO')\n",
    "else:\n",
    "    print ('Não, não começa com SANTO')"
   ]
  },
  {
   "cell_type": "markdown",
   "metadata": {},
   "source": [
    "## Desafio 25"
   ]
  },
  {
   "cell_type": "code",
   "execution_count": 14,
   "metadata": {},
   "outputs": [
    {
     "name": "stdout",
     "output_type": "stream",
     "text": [
      "Digite o nome da pessoa: silva joao\n",
      "Sim, tem SILVA\n"
     ]
    }
   ],
   "source": [
    "nome = input ('Digite o nome da pessoa: ').strip()\n",
    "resultado = nome.upper()\n",
    "if 'SILVA' in resultado:\n",
    "    print ('Sim, tem SILVA')\n",
    "else:\n",
    "    print ('Não, não tem SILVA')"
   ]
  },
  {
   "cell_type": "markdown",
   "metadata": {},
   "source": [
    "## Desafio 26"
   ]
  },
  {
   "cell_type": "code",
   "execution_count": 15,
   "metadata": {},
   "outputs": [
    {
     "name": "stdout",
     "output_type": "stream",
     "text": [
      "Digite uma frase: banana\n",
      "A letra aparece: 3 vezes\n",
      "A letra aparece na posição 1 pela primeira vez.\n",
      "A letra aparece na posição 5 pela ultima vez.\n"
     ]
    }
   ],
   "source": [
    "frase = input ('Digite uma frase: ').strip()\n",
    "print ('A letra aparece: {} vezes'.format(frase.upper().count('A')))\n",
    "print ('A letra aparece na posição {} pela primeira vez.'.format(frase.upper().find('A')))\n",
    "print ('A letra aparece na posição {} pela ultima vez.'.format(frase.upper().rfind('A')))"
   ]
  },
  {
   "cell_type": "markdown",
   "metadata": {},
   "source": [
    "## Desafio 27"
   ]
  },
  {
   "cell_type": "code",
   "execution_count": 3,
   "metadata": {},
   "outputs": [
    {
     "name": "stdout",
     "output_type": "stream",
     "text": [
      "Digite o nome completo: Guilherme Mendes Godoi\n",
      "O primeiro nome é:  Guilherme\n",
      "O último nome é:  Godoi\n"
     ]
    }
   ],
   "source": [
    "nome = input ('Digite o nome completo: ').strip()\n",
    "newnome = nome.split()\n",
    "print('O primeiro nome é: ', newnome[0])\n",
    "print('O último nome é: ', newnome[-1])"
   ]
  },
  {
   "cell_type": "code",
   "execution_count": null,
   "metadata": {},
   "outputs": [],
   "source": []
  }
 ],
 "metadata": {
  "kernelspec": {
   "display_name": "Python 3",
   "language": "python",
   "name": "python3"
  },
  "language_info": {
   "codemirror_mode": {
    "name": "ipython",
    "version": 3
   },
   "file_extension": ".py",
   "mimetype": "text/x-python",
   "name": "python",
   "nbconvert_exporter": "python",
   "pygments_lexer": "ipython3",
   "version": "3.8.5"
  }
 },
 "nbformat": 4,
 "nbformat_minor": 4
}
