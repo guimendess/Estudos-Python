{
 "cells": [
  {
   "cell_type": "code",
   "execution_count": 1,
   "metadata": {},
   "outputs": [
    {
     "name": "stdout",
     "output_type": "stream",
     "text": [
      "pygame 2.0.1 (SDL 2.0.14, Python 3.8.5)\n",
      "Hello from the pygame community. https://www.pygame.org/contribute.html\n"
     ]
    }
   ],
   "source": [
    "import math\n",
    "import random\n",
    "import vlc\n",
    "import pygame"
   ]
  },
  {
   "cell_type": "markdown",
   "metadata": {},
   "source": [
    "## Desafio 16"
   ]
  },
  {
   "cell_type": "code",
   "execution_count": null,
   "metadata": {},
   "outputs": [],
   "source": [
    "from math import trunc #quando vc importa o módulo específico nao precisa fazer o \"math.trunc(x)\"\n",
    "x = float(input ('Digite um número:'))\n",
    "print ('O valor inteiro é: ', trunc(x))\n",
    "#print ('O valor inteiro é: ', int(x)) - é outra forma de fazer"
   ]
  },
  {
   "cell_type": "markdown",
   "metadata": {},
   "source": [
    "## Desafio 17"
   ]
  },
  {
   "cell_type": "code",
   "execution_count": null,
   "metadata": {},
   "outputs": [],
   "source": [
    "x = float(input ('Digite o cateto 1:'))\n",
    "y = float(input ('Digite o cateto 2:'))\n",
    "#c = math.sqrt((math.pow(x,2))+(math.pow(y,2))) - essa é uma forma mais complexa\n",
    "c = math.hypot(x,y)\n",
    "print('A hipotenuza é {:.2f}: '.format(c))"
   ]
  },
  {
   "cell_type": "markdown",
   "metadata": {},
   "source": [
    "## Desafio 18"
   ]
  },
  {
   "cell_type": "code",
   "execution_count": null,
   "metadata": {},
   "outputs": [],
   "source": [
    "x = float(input ('Digite o ângulo:'))\n",
    "seno = math.sin(math.radians(x))\n",
    "print ('O seno é {:.2f}: '.format(seno))"
   ]
  },
  {
   "cell_type": "code",
   "execution_count": null,
   "metadata": {},
   "outputs": [],
   "source": [
    "x = float(input ('Digite o ângulo:'))\n",
    "cosseno = math.cos(math.radians(x))\n",
    "print ('O cosseno é {:.2f}: '.format(cosseno))"
   ]
  },
  {
   "cell_type": "code",
   "execution_count": null,
   "metadata": {},
   "outputs": [],
   "source": [
    "x = float(input ('Digite o ângulo:'))\n",
    "tangente = math.tan(math.radians(x))\n",
    "print ('A tangente é {:.2f}: '.format(tangente))"
   ]
  },
  {
   "cell_type": "code",
   "execution_count": null,
   "metadata": {},
   "outputs": [],
   "source": [
    "import numpy as np\n",
    "print (np.arcsinh(30))"
   ]
  },
  {
   "cell_type": "markdown",
   "metadata": {},
   "source": [
    "# Desafio 19"
   ]
  },
  {
   "cell_type": "code",
   "execution_count": null,
   "metadata": {},
   "outputs": [],
   "source": [
    "aluno1 = input ('Digite o nome do aluno 1:')\n",
    "aluno2 = input ('Digite o nome do aluno 2:')\n",
    "aluno3 = input ('Digite o nome do aluno 3:')\n",
    "aluno4 = input ('Digite o nome do aluno 4:')\n",
    "x = random.choice([aluno1,aluno2,aluno3, aluno4])\n",
    "#também dá pra criar uma variável do tipo lista e depois só jogar ela aqui dentro\n",
    "print('O aluno escolhido foi o : ',x)"
   ]
  },
  {
   "cell_type": "markdown",
   "metadata": {},
   "source": [
    "# Desafio 20"
   ]
  },
  {
   "cell_type": "code",
   "execution_count": null,
   "metadata": {},
   "outputs": [],
   "source": [
    "aluno1 = input ('Digite o nome do aluno 1:')\n",
    "aluno2 = input ('Digite o nome do aluno 2:')\n",
    "aluno3 = input ('Digite o nome do aluno 3:')\n",
    "aluno4 = input ('Digite o nome do aluno 4:')\n",
    "x = random.sample([aluno1,aluno2,aluno3, aluno4],k=4)\n",
    "lista = [aluno1, aluno2, aluno3, aluno4]\n",
    "random.shuffle(lista) #esse método nao aceita criar uma variável pra receber o resultado do shuffle, tem que ir direto\n",
    "print('A ordem escolhida foi : ',x)\n",
    "print('A segunda ordem escolhida foi : ',lista)"
   ]
  },
  {
   "cell_type": "markdown",
   "metadata": {},
   "source": [
    "# Desafio 21"
   ]
  },
  {
   "cell_type": "code",
   "execution_count": null,
   "metadata": {},
   "outputs": [],
   "source": [
    "# pygame.init()\n",
    "# pygame.mixer.music.load('vemca.mp3')\n",
    "# pygame.mixer.music.play()\n",
    "# pygame.event.wait()"
   ]
  },
  {
   "cell_type": "code",
   "execution_count": 10,
   "metadata": {},
   "outputs": [
    {
     "data": {
      "text/plain": [
       "int"
      ]
     },
     "execution_count": 10,
     "metadata": {},
     "output_type": "execute_result"
    }
   ],
   "source": []
  },
  {
   "cell_type": "code",
   "execution_count": null,
   "metadata": {},
   "outputs": [],
   "source": []
  }
 ],
 "metadata": {
  "kernelspec": {
   "display_name": "Python 3",
   "language": "python",
   "name": "python3"
  },
  "language_info": {
   "codemirror_mode": {
    "name": "ipython",
    "version": 3
   },
   "file_extension": ".py",
   "mimetype": "text/x-python",
   "name": "python",
   "nbconvert_exporter": "python",
   "pygments_lexer": "ipython3",
   "version": "3.8.5"
  }
 },
 "nbformat": 4,
 "nbformat_minor": 4
}
