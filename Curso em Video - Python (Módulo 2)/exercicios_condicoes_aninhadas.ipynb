{
 "cells": [
  {
   "cell_type": "markdown",
   "metadata": {},
   "source": [
    "## Desafio 36"
   ]
  },
  {
   "cell_type": "code",
   "execution_count": 11,
   "metadata": {},
   "outputs": [
    {
     "name": "stdout",
     "output_type": "stream",
     "text": [
      "Digite o valor da casa: 120000\n",
      "Digite o salário: 1100\n",
      "Digite em quantos anos você quer pagar: 5\n",
      "A parcela de R$ 2000.00 extrapola o limite de 30% do seu salário.\n",
      "Empréstimo negado!\n"
     ]
    }
   ],
   "source": [
    "casa_vlr = float (input('Digite o valor da casa: '))\n",
    "salario = float (input('Digite o salário: '))\n",
    "prazo = float (input('Digite em quantos anos você quer pagar: '))\n",
    "vlr_prestacao = casa_vlr / (prazo*12)\n",
    "if vlr_prestacao < salario * (30/100):\n",
    "    print ('O seu empréstimo foi aprovado! O valor da parcela será: R$ {:.2f}.'.format(vlr_prestacao))\n",
    "else:\n",
    "    print ('A parcela de R$ {:.2f} extrapola o limite de 30% do seu salário.\\nEmpréstimo negado!'.format(vlr_prestacao))\n"
   ]
  },
  {
   "cell_type": "markdown",
   "metadata": {},
   "source": [
    "## Desafio 37"
   ]
  },
  {
   "cell_type": "code",
   "execution_count": 33,
   "metadata": {},
   "outputs": [
    {
     "name": "stdout",
     "output_type": "stream",
     "text": [
      "Digite o número a ser convertido: 322222\n",
      "Escolha a base:\n",
      " 1- Binário\n",
      " 2- Octal\n",
      " 3- Hexadecimal\n",
      "Digite a base a ser usada: 2\n",
      "O valor 322222 convertido é:\n",
      "1165256 em ocatal.\n"
     ]
    }
   ],
   "source": [
    "valor = int (input('Digite o número a ser convertido: '))\n",
    "print(\"Escolha a base:\\n 1- Binário\\n 2- Octal\\n 3- Hexadecimal\")\n",
    "base = int (input('Digite a base a ser usada: '))\n",
    "if base ==1:\n",
    "    print(\"O valor\", valor, \"convertido é:\")\n",
    "    print(bin(valor)[2:], \"em binário.\")\n",
    "elif base == 2:\n",
    "    print(\"O valor\", valor, \"convertido é:\")\n",
    "    print(oct(valor)[2:], \"em ocatal.\")\n",
    "elif base == 3:\n",
    "    print(\"O valor\", valor, \"convertido é:\")\n",
    "    print(hex(valor)[2:], \"em hexadecimal.\")\n",
    "else:\n",
    "    print('Opção inválida')\n",
    "# ele botou o [2:] para imprimir só da posição 2 pra frente da string"
   ]
  },
  {
   "cell_type": "markdown",
   "metadata": {},
   "source": [
    "## Desafio 38"
   ]
  },
  {
   "cell_type": "code",
   "execution_count": 20,
   "metadata": {},
   "outputs": [
    {
     "name": "stdout",
     "output_type": "stream",
     "text": [
      "Digite o valor 1: 2\n",
      "Digite o valor 2: 3\n",
      "O segundo valor 3.00 é maior\n"
     ]
    }
   ],
   "source": [
    "v1 = float (input('Digite o valor 1: '))\n",
    "v2 = float (input('Digite o valor 2: '))\n",
    "if v1 > v2:\n",
    "    print('O primeiro valor {:.2f} é maior'.format(v1))\n",
    "elif v1 < v2:\n",
    "    print('O segundo valor {:.2f} é maior'.format(v2))\n",
    "else:\n",
    "    print('Não existe valor maior, os dois são iguais!')"
   ]
  },
  {
   "cell_type": "markdown",
   "metadata": {},
   "source": [
    "## Desafio 39"
   ]
  },
  {
   "cell_type": "code",
   "execution_count": 35,
   "metadata": {},
   "outputs": [
    {
     "name": "stdout",
     "output_type": "stream",
     "text": [
      "Digite o ano de nascimento: 19\n",
      "Você não precisa mais se alistar, pois tem 2002 anos. Já se passaram 1984 anos do prazo.\n"
     ]
    }
   ],
   "source": [
    "from datetime import date\n",
    "dn = int (input('Digite o ano de nascimento: '))\n",
    "ano = date.today().year\n",
    "resultado = ano - dn\n",
    "if resultado > 18:\n",
    "    prazo = resultado - 18\n",
    "    print ('Você não precisa mais se alistar, pois tem {} anos. Já se passaram {} anos do prazo.'.format(resultado,prazo))\n",
    "elif resultado == 18:\n",
    "    print ('Você precisa se alistar agora, pois tem {} anos.'.format(resultado))\n",
    "else:\n",
    "    prazo = 18 - resultado\n",
    "    print ('Você ainda tem {} anos para se alistar'.format(prazo))\n"
   ]
  },
  {
   "cell_type": "markdown",
   "metadata": {},
   "source": [
    "## Desafio 40"
   ]
  },
  {
   "cell_type": "code",
   "execution_count": 62,
   "metadata": {},
   "outputs": [
    {
     "name": "stdout",
     "output_type": "stream",
     "text": [
      "Digite a nota 1: 10\n",
      "Digite a nota 2: 9\n",
      "Digite a nota 3: 9\n",
      "Sua média foi 9.33. Você está aprovado!\n"
     ]
    }
   ],
   "source": [
    "from statistics import mean\n",
    "nota1 = float (input('Digite a nota 1: '))\n",
    "nota2 = float (input('Digite a nota 2: '))\n",
    "nota3 = float (input('Digite a nota 3: '))\n",
    "d = [nota1, nota2, nota3]\n",
    "resultado = mean(d)\n",
    "if resultado < 5:\n",
    "    print ('Sua média foi {:.2f}. Você está reprovado!'.format(resultado))\n",
    "elif resultado >= 5 and resultado < 7:\n",
    "    print ('Sua média foi {:.2f}. Você está de recuperação!'.format(resultado))\n",
    "else:\n",
    "    print ('Sua média foi {:.2f}. Você está aprovado!'.format(resultado))"
   ]
  },
  {
   "cell_type": "markdown",
   "metadata": {},
   "source": [
    "## Desafio 41"
   ]
  },
  {
   "cell_type": "code",
   "execution_count": 12,
   "metadata": {},
   "outputs": [
    {
     "name": "stdout",
     "output_type": "stream",
     "text": [
      "Digite o ano de nascimento: 2008\n",
      "Você tem 13 anos. Sua categoria é Infatil.\n"
     ]
    }
   ],
   "source": [
    "from datetime import date\n",
    "dn = int (input('Digite o ano de nascimento: '))\n",
    "ano = date.today().year\n",
    "resultado = ano - dn\n",
    "if resultado <=9:\n",
    "    print ('Você tem {} anos. Sua categoria é Mirim.'.format(resultado))\n",
    "elif resultado > 10 and resultado <= 14:\n",
    "    print ('Você tem {} anos. Sua categoria é Infatil.'.format(resultado))\n",
    "elif resultado > 15 and resultado <=19:\n",
    "    print ('Você tem {} anos. Sua categoria é Junior.'.format(resultado))\n",
    "elif resultado ==20:\n",
    "    print ('Você tem {} anos. Sua categoria é Sênior.'.format(resultado))\n",
    "else:\n",
    "    print ('Você tem {} anos. Sua categoria é Master.'.format(resultado))\n",
    "    \n",
    "#nessa situação, se nao quiser nao precisa testar intervalos, tipo: resultado > 10 and resultado <= 14\n",
    "#pode simplesmente botar < 20 , < 15 e < 10, o Python ja vai entender exatamente o que fazer."
   ]
  },
  {
   "cell_type": "markdown",
   "metadata": {},
   "source": [
    "## Desafio 42"
   ]
  },
  {
   "cell_type": "code",
   "execution_count": 35,
   "metadata": {},
   "outputs": [
    {
     "name": "stdout",
     "output_type": "stream",
     "text": [
      "Digite o Lado1: 3\n",
      "Digite o Lado2: 3\n",
      "Digite o Lado3: 3\n",
      "Triângulo possível!\n",
      "Neste caso ele é um Triângulo Equilátero.\n"
     ]
    }
   ],
   "source": [
    "numeros = []\n",
    "numeros.append(float(input('Digite o Lado1: ')))\n",
    "numeros.append(float(input('Digite o Lado2: ')))\n",
    "numeros.append(float(input('Digite o Lado3: ')))\n",
    "numordenados = sorted(numeros)\n",
    "if numordenados[0] + numordenados[1] > numordenados [2]:\n",
    "    print('Triângulo possível!')\n",
    "    if numordenados[0] == numordenados[1] == numordenados [2]:\n",
    "        print('Neste caso ele é um Triângulo Equilátero.')\n",
    "    elif numordenados[0] == numordenados[1] or numordenados[0] == numordenados [2] or numordenados[1] == numordenados [2]:\n",
    "        print('Neste caso ele é um Triângulo Isósceles.')\n",
    "    else:\n",
    "        print('Neste caso ele é um Triângulo Escaleno.')\n",
    "else:\n",
    "    print('Triângulo impossível')"
   ]
  },
  {
   "cell_type": "markdown",
   "metadata": {},
   "source": [
    "## Desafio 43"
   ]
  },
  {
   "cell_type": "code",
   "execution_count": 27,
   "metadata": {},
   "outputs": [
    {
     "name": "stdout",
     "output_type": "stream",
     "text": [
      "Digite o peso: 80\n",
      "Digite a altura: 1.70\n",
      "Seu IMC é de 27.68. Você está em sobrepeso.\n"
     ]
    }
   ],
   "source": [
    "from math import pow\n",
    "p = float (input('Digite o peso: '))\n",
    "a = float (input('Digite a altura: '))\n",
    "imc = p / (pow (a,2))\n",
    "if imc < 18.5:\n",
    "    print('Seu IMC é de {:.2f}. Você está abaixo do peso.'.format(imc))\n",
    "elif imc >= 18.5 and imc <= 25:\n",
    "    print('Seu IMC é de {:.2f}. Você está no peso ideal.'.format(imc))\n",
    "elif imc > 25 and imc <= 30: #dá pra fazer 25 < imc < 30 também. fica até mais fácil. O Python aceita.\n",
    "    print('Seu IMC é de {:.2f}. Você está em sobrepeso.'.format(imc))\n",
    "elif imc > 30 and imc <= 40:\n",
    "    print('Seu IMC é de {:.2f}. Você está obeso.'.format(imc))\n",
    "else:\n",
    "    print('Seu IMC é de {:.2f}. Cuidado! Você está em obseidade mórbida.'.format(imc))"
   ]
  },
  {
   "cell_type": "markdown",
   "metadata": {},
   "source": [
    "## Desafio 44"
   ]
  },
  {
   "cell_type": "code",
   "execution_count": 36,
   "metadata": {},
   "outputs": [
    {
     "name": "stdout",
     "output_type": "stream",
     "text": [
      "Qual o preço do produto? 10000\n",
      "Digite a forma de pagamento:\n",
      " 1- À vista\n",
      " 2- Cartão (à vista)\n",
      " 3- 2x no cartão\n",
      " 4- 3x Cartão\n",
      "4\n",
      "Você pagará 3 parcelas de R$ 4000.00, totalizando R$ 12000.00.\n"
     ]
    }
   ],
   "source": [
    "p = float (input('Qual o preço do produto? '))\n",
    "f = int (input('Digite a forma de pagamento:\\n 1- À vista\\n 2- Cartão (à vista)\\n 3- 2x no cartão\\n 4- 3x Cartão\\n'))\n",
    "if f == 1:\n",
    "    p = p - (p*(10/100))\n",
    "    print('Você vai pagar R$ {:.2f}.'.format(p))\n",
    "elif f == 2:\n",
    "    p = p - (p*(5/100))\n",
    "    print('Você vai pagar R$ {:.2f}.'.format(p))\n",
    "elif f == 3:\n",
    "    n = p / 2\n",
    "    print('Você vai pagar 2 parcelas de R$ {:.2f}. Totalizando {}'.format(n,p))\n",
    "elif f ==4:\n",
    "    p = (p + (p*(20/100)))/3\n",
    "    n = p * 3\n",
    "    print('Você pagará 3 parcelas de R$ {:.2f}, totalizando R$ {:.2f}.'.format(p,n))\n",
    "else:\n",
    "    print('Você digitou a opção errada. Tente novamente.')"
   ]
  },
  {
   "cell_type": "markdown",
   "metadata": {},
   "source": [
    "## Desafio 45"
   ]
  },
  {
   "cell_type": "code",
   "execution_count": 39,
   "metadata": {},
   "outputs": [
    {
     "name": "stdout",
     "output_type": "stream",
     "text": [
      "COMPUTADOR DIZ:\n",
      "Escolha:\n",
      " 1- PEDRA\n",
      " 2- PAPEL\n",
      " 3- TESOURA\n",
      "3\n",
      "Humano escolheu: 3\n",
      "Computador escolheu: 2\n",
      "Tesoura vence papel. O humano venceu.\n"
     ]
    }
   ],
   "source": [
    "import random\n",
    "print ('COMPUTADOR DIZ:')\n",
    "h = int (input('Escolha:\\n 1- PEDRA\\n 2- PAPEL\\n 3- TESOURA\\n'))\n",
    "print('Humano escolheu:',h)\n",
    "c = random.randrange(1,3)\n",
    "print('Computador escolheu:',c)\n",
    "\n",
    "if h == c:\n",
    "    print('Ninguém venceu. Temos um empate!')\n",
    "elif h == 1 and c == 3:\n",
    "    print('Pedra vence tesoura. O humano venceu.')\n",
    "elif h == 1 and c == 2:\n",
    "    print('Papel vence Pedra. O PC venceu.')\n",
    "elif h == 2 and c == 1:\n",
    "    print('Papel vence Pedra. O humano venceu.')\n",
    "elif h==2 and c == 3:\n",
    "    print('Tesoura vence papel. O PC venceu.')\n",
    "elif h == 3 and c == 1:\n",
    "    print('Pedra vence Tesoura. O PC venceu.')\n",
    "elif h == 3 and c == 2:\n",
    "    print('Tesoura vence papel. O humano venceu.')\n"
   ]
  },
  {
   "cell_type": "code",
   "execution_count": null,
   "metadata": {},
   "outputs": [],
   "source": []
  }
 ],
 "metadata": {
  "kernelspec": {
   "display_name": "Python 3",
   "language": "python",
   "name": "python3"
  },
  "language_info": {
   "codemirror_mode": {
    "name": "ipython",
    "version": 3
   },
   "file_extension": ".py",
   "mimetype": "text/x-python",
   "name": "python",
   "nbconvert_exporter": "python",
   "pygments_lexer": "ipython3",
   "version": "3.8.5"
  }
 },
 "nbformat": 4,
 "nbformat_minor": 4
}
