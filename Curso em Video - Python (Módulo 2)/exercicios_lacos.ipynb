{
 "cells": [
  {
   "cell_type": "markdown",
   "metadata": {},
   "source": [
    "## Desafio 46"
   ]
  },
  {
   "cell_type": "code",
   "execution_count": null,
   "metadata": {},
   "outputs": [],
   "source": [
    "import emoji\n",
    "from time import sleep\n",
    "for c in range (10,-1,-1):\n",
    "    print (c)\n",
    "    sleep(1)\n",
    "emoj1=(emoji.emojize(':tada:', use_aliases=True))\n",
    "emoj2=(emoji.emojize(':fireworks:', use_aliases=True))\n",
    "print('Feliz Ano Novo', emoj1+emoj2)"
   ]
  },
  {
   "cell_type": "markdown",
   "metadata": {},
   "source": [
    "## Desafio 47"
   ]
  },
  {
   "cell_type": "code",
   "execution_count": null,
   "metadata": {},
   "outputs": [],
   "source": [
    "# Minha solução\n",
    "# list =[]\n",
    "# for c in range (0,52,2):\n",
    "#     if c != 0:\n",
    "#         list += [c]\n",
    "# print(list)\n",
    "\n",
    "#solução Guanabara\n",
    "for n in range (2,51,2):\n",
    "    print(n, end = ' ')\n"
   ]
  },
  {
   "cell_type": "markdown",
   "metadata": {},
   "source": [
    "## Desafio 48"
   ]
  },
  {
   "cell_type": "code",
   "execution_count": null,
   "metadata": {},
   "outputs": [],
   "source": [
    "#minha solução\n",
    "# list =[]\n",
    "# for c in range (1,501,2):\n",
    "#     if c%3==0:\n",
    "#         list += [c]\n",
    "# print(sum(list))\n",
    "#print(list)\n",
    "\n",
    "#solução Guanabara\n",
    "\n",
    "soma=0\n",
    "cont=0\n",
    "for c in range (1,501,2):\n",
    "    if c % 3 == 0:\n",
    "        soma = soma + c\n",
    "        cont = cont +1\n",
    "print('A soma é:', soma)"
   ]
  },
  {
   "cell_type": "markdown",
   "metadata": {},
   "source": [
    "## Desafio 49"
   ]
  },
  {
   "cell_type": "code",
   "execution_count": null,
   "metadata": {},
   "outputs": [],
   "source": [
    "n = int (input('Escolha um número: '))\n",
    "print ('-'*12)\n",
    "for c in range(0,11):\n",
    "    res = c * n\n",
    "    print ('{} x {} = {}'.format(n,c,res))\n",
    "    \n",
    "print ('-'*12)\n",
    "print('Fim da Tabuada.')\n",
    "    \n",
    "    "
   ]
  },
  {
   "cell_type": "markdown",
   "metadata": {},
   "source": [
    "## Desafio 50"
   ]
  },
  {
   "cell_type": "code",
   "execution_count": null,
   "metadata": {},
   "outputs": [],
   "source": [
    "s = 0\n",
    "for c in range (0,6):\n",
    "    n = int(input('Digite um número inteiro: '))\n",
    "    if n % 2 == 0:\n",
    "        s += n\n",
    "print ('A soma dos números pares foi de: ',s)"
   ]
  },
  {
   "cell_type": "markdown",
   "metadata": {},
   "source": [
    "## Desafio 51"
   ]
  },
  {
   "cell_type": "code",
   "execution_count": null,
   "metadata": {},
   "outputs": [],
   "source": [
    "n = int (input('Digite o número para começar: '))\n",
    "r = int (input('Digite a razão: '))\n",
    "for c in range(n,n+(11-1)*r,r):\n",
    "    print (c, end = ' ')\n",
    "print('Fim')"
   ]
  },
  {
   "cell_type": "markdown",
   "metadata": {},
   "source": [
    "## Desafio 52"
   ]
  },
  {
   "cell_type": "code",
   "execution_count": null,
   "metadata": {},
   "outputs": [],
   "source": [
    "# Program to check if a number is prime or not\n",
    "\n",
    "num = int (input('Digite um número: '))\n",
    "\n",
    "# prime numbers are greater than 1\n",
    "if num > 1:\n",
    "   # check for factors\n",
    "   for i in range(2,num):\n",
    "       if (num % i) == 0:\n",
    "           print(num,\"não é um número primo\")\n",
    "           print(i,\"vezes\",num//i,\"é: \",num)\n",
    "           break\n",
    "   else:\n",
    "       print(num,\"é um número primo\")\n",
    "       \n",
    "# if input number is less than\n",
    "# or equal to 1, it is not prime\n",
    "else:\n",
    "   print(num,\"não é um número primo\")"
   ]
  },
  {
   "cell_type": "code",
   "execution_count": null,
   "metadata": {},
   "outputs": [],
   "source": [
    "# Desafio 52 do Guanabara\n",
    "num = int(input('Digite um numero: '))\n",
    "tot = 0\n",
    "\n",
    "for c in range (1, num + 1):\n",
    "    if num % c ==0:\n",
    "        print('\\033[33m', end = '')\n",
    "        tot += 1\n",
    "    else:\n",
    "        print('\\033[31m', end = '')\n",
    "    print('{}'.format(c),end = '')\n",
    "print('\\n\\033[33mO numero {} foi divisível {} vezes'.format(num,tot))\n",
    "if tot == 2:\n",
    "    print('E por isso ele é PRIMO!')\n",
    "else:\n",
    "    print('E por isso ele NÃO é PRIMO!')"
   ]
  },
  {
   "cell_type": "markdown",
   "metadata": {},
   "source": [
    "## Desafio 53"
   ]
  },
  {
   "cell_type": "code",
   "execution_count": null,
   "metadata": {},
   "outputs": [],
   "source": [
    "#Minha resolução\n",
    "frase = str(input('Digite uma frase: ')).replace(\" \", \"\").upper()\n",
    "cont = len(frase)\n",
    "crescente = []\n",
    "decrescente = []\n",
    "for c in range (0,cont):\n",
    "    crescente.append(frase[c])\n",
    "\n",
    "print ('-'*50)    \n",
    "\n",
    "for d in range (c,-1,-1):\n",
    "    decrescente.append(frase[d])\n",
    "\n",
    "print (crescente)\n",
    "print (decrescente)\n",
    "print ('-'*50) \n",
    "if crescente == decrescente:\n",
    "    print('São palíndromas.')\n",
    "else:\n",
    "    print('Não são palíndromas.')"
   ]
  },
  {
   "cell_type": "code",
   "execution_count": null,
   "metadata": {},
   "outputs": [],
   "source": [
    "#Resolução Guanabara\n",
    "\n",
    "frase = str(input('Digite uma frase: ')).strip().upper()\n",
    "palavras = frase.split()\n",
    "junto = ''.join(palavras)\n",
    "inverso = ''\n",
    "for letra in range (len(junto) -1,-1,-1):\n",
    "    inverso +=junto[letra]\n",
    "if inverso == junto:\n",
    "    print('Palindromo')\n",
    "else:\n",
    "    print('Não palíndromo')\n",
    "\n",
    "# OU sem usar o for \n",
    "    \n",
    "frase = str(input('Digite uma frase: ')).strip().upper()\n",
    "palavras = frase.split()\n",
    "junto = ''.join(palavras)\n",
    "inverso = junto[::-1]\n",
    "print('O inverso de {} é {}.format(junto,inverso))\n",
    "if inverso == junto:\n",
    "    print('Palindromo')\n",
    "else:\n",
    "    print('Não palíndromo')    \n"
   ]
  },
  {
   "cell_type": "markdown",
   "metadata": {},
   "source": [
    "## Deasfio 54"
   ]
  },
  {
   "cell_type": "code",
   "execution_count": null,
   "metadata": {},
   "outputs": [],
   "source": [
    "maior = 0\n",
    "menor = 0\n",
    "from datetime import date\n",
    "atual = date.today().year\n",
    "for c in range (0,7):\n",
    "    ano = int(input('Digite o ano de nascimento: '))\n",
    "    if atual - ano >= 21: \n",
    "        maior+=1\n",
    "    else:\n",
    "        menor+=1\n",
    "print ('{} pessoas são maiores de idade. {} pessoas são menores de idade'.format(maior,menor))"
   ]
  },
  {
   "cell_type": "markdown",
   "metadata": {},
   "source": [
    "## Desafio 55"
   ]
  },
  {
   "cell_type": "code",
   "execution_count": null,
   "metadata": {},
   "outputs": [],
   "source": [
    "lista = []\n",
    "for c in range (0,5):\n",
    "    peso = int(input('Digite o peso: '))\n",
    "    lista.append(peso)\n",
    "lista = sorted(lista)\n",
    "print(lista)\n",
    "print('O menor número foi: {} e o menor número foi: {} '.format(lista[0],lista[4]))"
   ]
  },
  {
   "cell_type": "code",
   "execution_count": null,
   "metadata": {},
   "outputs": [],
   "source": [
    "#Solução do Guanabara\n",
    "maior = 0\n",
    "menor = 0\n",
    "for p in range(1,6):\n",
    "    peso = float(input('Peso da {} pessoa: '.format(p)))\n",
    "    if p == 1:\n",
    "        maior = peso\n",
    "        menor = peso\n",
    "    else:\n",
    "        if peso > maior:\n",
    "            maior = peso\n",
    "        if peso < menor:\n",
    "            menor = peso\n",
    "print('O maior peso lido foi de {}Kg'.format(maior))\n",
    "print('O maior peso lido foi de {}Kg'.format(menor))"
   ]
  },
  {
   "cell_type": "markdown",
   "metadata": {},
   "source": [
    "## Desafio 56\n"
   ]
  },
  {
   "cell_type": "code",
   "execution_count": null,
   "metadata": {},
   "outputs": [],
   "source": [
    "from statistics import mean\n",
    "p = []\n",
    "for c in range (0,4):\n",
    "    nome = str(input('Digite o nome: '))\n",
    "    idade = int(input('Digite a idade: '))\n",
    "    sexo = str(input('Digite o sexo (\"M para masculino e F para Feminino\"): '))\n",
    "    p.append(nome)\n",
    "    p.append(idade)\n",
    "    p.append(sexo)\n",
    "print('Veja a relação das pessoas na lista: \\n',p)\n",
    "print ('-'*40)\n",
    "#media\n",
    "from statistics import mean\n",
    "media = []\n",
    "media.append(p[1])\n",
    "media.append(p[4])\n",
    "media.append(p[7])\n",
    "media.append(p[10])\n",
    "print ('Lista de Idades',media)\n",
    "print ('A média de Idades é: ',mean(media))\n",
    "print ('-'*40)\n",
    "\n",
    "#homem mais velho\n",
    "maior = 0\n",
    "for i in range(len(media)):\n",
    "    if media[0] > media[1] and media[0] > media[2] and media[0] > media[3]:\n",
    "        maior = media[0]\n",
    "        nmaisvelho = p[0]\n",
    "    elif media [1] > media[0] and media [1] > media[2] and media [1] > media[3]:\n",
    "        maior = media[1]\n",
    "        nmaisvelho = p[3]\n",
    "    elif media[2] > media[0] and media[2] > media[1] and media[2] > media[3]:\n",
    "        maior = media[2]\n",
    "        nmaisvelho = p[6]\n",
    "    elif media[3] > media[2] and media[3] > media[0] and media[3] > media[1]:\n",
    "        maior = media[3]\n",
    "        nmaisvelho = p[9]\n",
    "    else:\n",
    "        print('deu merda')\n",
    "print('O mais velho é {} e sua idade é {}: '.format(nmaisvelho,maior))\n",
    "print ('-'*40)\n",
    "\n",
    "#sexo - primeiro teste errado\n",
    "gender = []\n",
    "idade = []\n",
    "fem = 0\n",
    "idade.append(p[1])\n",
    "idade.append(p[4])\n",
    "idade.append(p[7])\n",
    "idade.append(p[10])\n",
    "gender.append(p[2])\n",
    "gender.append(p[5])\n",
    "gender.append(p[8])\n",
    "gender.append(p[11])\n",
    "for g in range(0,len(gender)):\n",
    "    if gender[g] == 'F' and idade[g] <= 21:\n",
    "        fem += 1\n",
    "if fem == 1:\n",
    "    print ('Temos {} mulher menor de idade.'.format(fem))\n",
    "else:\n",
    "    print ('Temos {} mulheres menores de idade:'.format(fem))"
   ]
  },
  {
   "cell_type": "markdown",
   "metadata": {},
   "source": [
    "## Desafio 56 - Guanabara"
   ]
  },
  {
   "cell_type": "code",
   "execution_count": null,
   "metadata": {},
   "outputs": [],
   "source": [
    "somaidade = 0\n",
    "mediaidade = 0\n",
    "maioridadehomem = 0\n",
    "nomevelho = ''\n",
    "totmulher20 = 0\n",
    "\n",
    "for p in range (1,5):\n",
    "    print('-------- {} PESSOA ------'.format(p))\n",
    "    nome = str(input('Nome: ')).strip()\n",
    "    idade = int(input('Idade: '))\n",
    "    sexo = str(input('Sexo[M/F]: ')).strip()\n",
    "    somaidade += idade\n",
    "    if p == 1 and sexo in 'Mm': #tá testando o primeiro item da lista\n",
    "        maioridadehomem = idade\n",
    "        nomevelho = nome\n",
    "    if sexo in 'Mm'and idade > maioridadehomem:\n",
    "        maioridadehomem = idade\n",
    "        nomevelho = nome\n",
    "    if sexo in 'Ff'and idade < 20:\n",
    "        totmulher20 += 1\n",
    "\n",
    "mediaidade = somaidade / 4\n",
    "print('A média da idade do grupo é de {} anos.'.format(mediaidade))\n",
    "print('O homem mais velho tem {} anos e se chama {}.'.format(maioridadehomem,nomevelho))\n",
    "print('Ao todo são {} mulheres com menos de 20 anos.'.format(totmulher20))"
   ]
  },
  {
   "cell_type": "markdown",
   "metadata": {},
   "source": [
    "## Teoria do while"
   ]
  },
  {
   "cell_type": "code",
   "execution_count": null,
   "metadata": {},
   "outputs": [],
   "source": [
    "n = 1 \n",
    "impar = 0\n",
    "par = 0\n",
    "while n != 0:\n",
    "    n = int(input('Digite um valor: '))\n",
    "    if n!= 0:\n",
    "        if n % 2 == 0:\n",
    "            par += 1\n",
    "        else:\n",
    "            impar += 1\n",
    "print('Você digitou {} números pares e {} ímpares!'.format(par,impar))"
   ]
  },
  {
   "cell_type": "markdown",
   "metadata": {},
   "source": [
    "## Desafio 57"
   ]
  },
  {
   "cell_type": "code",
   "execution_count": null,
   "metadata": {},
   "outputs": [],
   "source": [
    "s = ' '\n",
    "print('Digite o sexo do paciente [M/F. Caso digite errado, não será possível prosseguir.]')\n",
    "while s not in 'FfMm':\n",
    "    s = str(input('Digite o sexo: ')).upper().strip()[0]\n",
    "    if s in 'FfMm':\n",
    "        print('Você digitou o sexo {} corretamente.'.format(s))\n",
    "    else:\n",
    "        print('Tu é besta e digitou {}. Escolha o sexo novamente! '.format(s))"
   ]
  },
  {
   "cell_type": "markdown",
   "metadata": {},
   "source": [
    "## Desafio 58"
   ]
  },
  {
   "cell_type": "code",
   "execution_count": null,
   "metadata": {},
   "outputs": [],
   "source": [
    "a = ' '\n",
    "cont = 1\n",
    "import random\n",
    "while a != x:\n",
    "    x = random.randint(0,10)\n",
    "    a = int (input('Digite o número que o computador pensou: '))\n",
    "    if a != x:\n",
    "        cont += 1\n",
    "        print ('Você errou! Eu pensei no numero {} e não no {}.'.format(x,a))\n",
    "    else:\n",
    "        print ('Você acertou. Eu pensei no numero {} e você digitou {}! Vc precisou de {} tentativas'.format(x,a,cont))\n",
    "x = 0"
   ]
  },
  {
   "cell_type": "code",
   "execution_count": null,
   "metadata": {},
   "outputs": [],
   "source": [
    "from random import randint\n",
    "computador = randint(0,10)\n",
    "print('Sou computador, pensei num número entre 0 e 10... ')\n",
    "print('Será que você consegue acertar o numero que pensei? ')\n",
    "acertou = False\n",
    "palpites = 0\n",
    "while not acertou:\n",
    "    jogador = int (input('Qual seu palpite? '))\n",
    "    palpites += 1\n",
    "    if jogador == computador:\n",
    "        acertou = True\n",
    "    else:\n",
    "        if jogador > computador:\n",
    "            print('Menos... tente mais uma vez')\n",
    "        elif jogador < computador:\n",
    "            print('Mais... tente mais uma vez')\n",
    "print('Acertou com {} palpites.'.format(palpites))\n",
    "    "
   ]
  },
  {
   "cell_type": "markdown",
   "metadata": {},
   "source": [
    "## Desafio 59"
   ]
  },
  {
   "cell_type": "code",
   "execution_count": null,
   "metadata": {},
   "outputs": [],
   "source": [
    "menu = 0\n",
    "a = int (input('Digite primeiro valor: '))\n",
    "b = int (input('Digite segundo valor.: '))\n",
    "print ('-'*40)\n",
    "print ('Escolha as opções do Menu:\\n [1] SOMAR\\n [2] MULTIPLICAR\\n [3] MAIOR\\n [4] NOVOS NÚMEROS\\n [5] SAIR DO PROGRAMA')\n",
    "print ('-'*40)\n",
    "while menu != 5:\n",
    "    menu = int (input('Escolha opção do Menu: '))\n",
    "    if menu == 1:\n",
    "        result = a + b\n",
    "        print('A soma é: {}'.format(result))\n",
    "    elif menu == 2:\n",
    "        result = a * b\n",
    "        print ('A multiplicação é {}:'.format(result))\n",
    "    elif menu == 3:\n",
    "        if a > b:\n",
    "            print('O valor {} é maior que {}.'.format(a,b))\n",
    "        elif a < b:\n",
    "            print('O valor {} é maior que {}.'.format(b,a))\n",
    "        else: \n",
    "            print('O valor {} é igual a {}.'.format(a,b))\n",
    "    elif menu == 4:\n",
    "        a = int (input('Digite outro primeiro valor: '))\n",
    "        b = int (input('Digite o outro segundo valor.: '))\n",
    "    else: \n",
    "        print('Tu digitou a opção errada!')\n",
    "print('Você escolheu a opção 5. Fim da execução!')\n",
    "print ('-'*40)\n",
    "print('Você escolheu a opção',menu)\n",
    "    "
   ]
  },
  {
   "cell_type": "markdown",
   "metadata": {},
   "source": [
    "## Desafio 60"
   ]
  },
  {
   "cell_type": "code",
   "execution_count": null,
   "metadata": {},
   "outputs": [],
   "source": [
    "result = 1\n",
    "a = int (input('Digite o valor para o cálculo fatorial: \\n'))\n",
    "print('-'*10)\n",
    "result = a\n",
    "while a != 0:\n",
    "    result = result * (a-1)\n",
    "    if a != 0:\n",
    "        a -= 1\n",
    "    if a == 1:\n",
    "        print(result)"
   ]
  },
  {
   "cell_type": "code",
   "execution_count": null,
   "metadata": {},
   "outputs": [],
   "source": [
    "# Felipeta\n",
    "result = 1\n",
    "a = int (input('Digite o valor para o cálculo fatorial: \\n'))\n",
    "print('-'*10)\n",
    "result = a\n",
    "while a != 1:\n",
    "    result = result * (a-1)\n",
    "    a -= 1\n",
    "    print(result)"
   ]
  },
  {
   "cell_type": "markdown",
   "metadata": {},
   "source": [
    "## Desafio 61"
   ]
  },
  {
   "cell_type": "code",
   "execution_count": null,
   "metadata": {},
   "outputs": [],
   "source": [
    "n = int (input('Digite o número para começar: '))\n",
    "r = int (input('Digite a razão: '))\n",
    "c = 9\n",
    "result = n\n",
    "print (result, end = ' ')\n",
    "while c != 0:\n",
    "    result = result + r\n",
    "    print (result, end = ' ')\n",
    "    c -= 1\n",
    "print('FIM')\n"
   ]
  },
  {
   "cell_type": "markdown",
   "metadata": {},
   "source": [
    "## Desafio 62"
   ]
  },
  {
   "cell_type": "code",
   "execution_count": null,
   "metadata": {},
   "outputs": [],
   "source": [
    "n = int (input('Digite o número para começar: '))\n",
    "r = int (input('Digite a razão: '))\n",
    "c = 10\n",
    "result = n\n",
    "print (result, end = ' ')\n",
    "while c != 1:\n",
    "    result = result + r\n",
    "    print (result, end = ' ')\n",
    "    c -= 1\n",
    "    if c == 1:\n",
    "        m = int (input('\\nVocê quer ver mais quantos termos? Escolha 0 para sair: '))\n",
    "        c = m + 1\n",
    "    if c == 0:\n",
    "        break\n",
    "print ('Fim da Execução')"
   ]
  },
  {
   "cell_type": "markdown",
   "metadata": {},
   "source": [
    "## Desafio 63"
   ]
  },
  {
   "cell_type": "code",
   "execution_count": null,
   "metadata": {},
   "outputs": [],
   "source": [
    "n = int (input('Digite a quantidade de termos: '))\n",
    "cont = 2\n",
    "result = [1,1]\n",
    "while cont != n:\n",
    "    result.append(result[cont-1]+result[cont-2])\n",
    "    cont += 1\n",
    "print (result)"
   ]
  },
  {
   "cell_type": "code",
   "execution_count": null,
   "metadata": {},
   "outputs": [],
   "source": [
    "#Desafio 63 Guanabara\n",
    "print('-'*30)\n",
    "print('Sequencia de Fibo')\n",
    "print('-'*30)\n",
    "n = int (input('Digite a quantidade de termos: '))\n",
    "t1 = 0\n",
    "t2 = 1\n",
    "print('~'*30)\n",
    "print('{} - {}'.format(t1,t2), end='')\n",
    "cont = 3\n",
    "while cont <= n:\n",
    "    t3 = t1 + t2\n",
    "    print(' - {}'.format(t3), end='')\n",
    "    t1 = t2\n",
    "    t2 = t3\n",
    "    cont += 1\n",
    "print(' - FIM')\n",
    "print('~'*30)"
   ]
  },
  {
   "cell_type": "markdown",
   "metadata": {},
   "source": [
    "## Desafio 64"
   ]
  },
  {
   "cell_type": "code",
   "execution_count": null,
   "metadata": {},
   "outputs": [],
   "source": [
    "import math\n",
    "n = 0\n",
    "vetor = []\n",
    "while True:\n",
    "    n = int(input('Digite o número: [Obs.: Se quiser sair, digite 999]'))\n",
    "    if n == 999:\n",
    "        break\n",
    "    else:\n",
    "        vetor.append(n)\n",
    "print('Você digitou 999 e saiu')\n",
    "print('A quantidade de itens digitados foi de: ',len(vetor)-1)\n",
    "print('A soma entre eles é: ',sum(vetor))"
   ]
  },
  {
   "cell_type": "markdown",
   "metadata": {},
   "source": [
    "## Desafio 65"
   ]
  },
  {
   "cell_type": "code",
   "execution_count": null,
   "metadata": {},
   "outputs": [],
   "source": [
    "import numpy\n",
    "n = 0\n",
    "vetor = []\n",
    "cont = 0\n",
    "while cont != 10:\n",
    "    n = int(input('Digite o número: '))\n",
    "    vetor.append(n)\n",
    "    opt = int(input('Deseja continuar? Digite 0 para sim e 1 para não: '))\n",
    "    if opt == 0:\n",
    "        cont+=1\n",
    "    elif opt ==1:\n",
    "        break\n",
    "    else:\n",
    "        print('Digitou a opção errada')\n",
    "print('Você saiu')\n",
    "print(vetor)\n",
    "final = len(vetor)\n",
    "print('O primeiro item é {} e o último é {}: '.format(vetor[0],vetor[final-1])) \n",
    "print('A média deles é: ', numpy.mean(vetor))"
   ]
  },
  {
   "cell_type": "code",
   "execution_count": null,
   "metadata": {},
   "outputs": [],
   "source": [
    "#Guanabara\n",
    "resp = 'S'\n",
    "soma = quant = media = maior = menor = 0\n",
    "while resp in 'Ss':\n",
    "    num = int (input('Digite um número: '))\n",
    "    soma += num\n",
    "    quant += 1\n",
    "    if quant == 1:\n",
    "        maior = menor = num\n",
    "    else:\n",
    "        if num > maior:\n",
    "            maior = num\n",
    "        if num < menor:\n",
    "            menor = num\n",
    "    resp = str(input('Quer continuar? [S/N]')).upper().strip()[0]\n",
    "media = soma / quant\n",
    "print('Você digitou {} numeros e a média foi {}.'.format(quant,media))\n",
    "print('O maiior valor foi {} e o menor foi {}.'.format(maior,menor))"
   ]
  },
  {
   "cell_type": "code",
   "execution_count": null,
   "metadata": {},
   "outputs": [],
   "source": [
    "nome = 'José'\n",
    "idade = 33\n",
    "print(f'O {nome} tem {idade} anos')"
   ]
  },
  {
   "cell_type": "markdown",
   "metadata": {},
   "source": [
    "## Desafio 66"
   ]
  },
  {
   "cell_type": "code",
   "execution_count": null,
   "metadata": {},
   "outputs": [],
   "source": [
    "n = soma = cont = 0\n",
    "while True:\n",
    "    n = int(input('Digite o número: '))\n",
    "    if n == 999:\n",
    "        break\n",
    "    else:\n",
    "        soma += n\n",
    "        cont += 1\n",
    "print(f'A qtde foi {cont} e a soma total foi de: {soma}')"
   ]
  },
  {
   "cell_type": "markdown",
   "metadata": {},
   "source": [
    "## Desafio 67"
   ]
  },
  {
   "cell_type": "code",
   "execution_count": null,
   "metadata": {},
   "outputs": [],
   "source": [
    "while True:\n",
    "    print ('-'*20)\n",
    "    n = int (input('Escolha um número: '))\n",
    "    print ('-'*20)\n",
    "    res = c = 0\n",
    "    if n < 0:\n",
    "        break\n",
    "    while c < 11:\n",
    "        res = c * n\n",
    "        print ('{} x {} = {}'.format(n,c,res))\n",
    "        c += 1\n",
    "print(f'Você digitou {n}, que é negativo. Fim da Tabuada.')"
   ]
  },
  {
   "cell_type": "markdown",
   "metadata": {},
   "source": [
    "## Desafio 68"
   ]
  },
  {
   "cell_type": "code",
   "execution_count": null,
   "metadata": {},
   "outputs": [],
   "source": [
    "from random import randint\n",
    "print ('=-'*20)\n",
    "print('Vamos jogar PAR ou ÍMPAR?')\n",
    "print ('=-'*20)\n",
    "while True:\n",
    "    opt = str (input('Escolha PAR ou ÍMPAR: ')).upper()[0]\n",
    "    p = int (input('Escolha um número: '))\n",
    "    if p > 5:\n",
    "        print('Digitou um num. maior que 5. Repita!')\n",
    "    else:\n",
    "        c = randint(0,5)\n",
    "        print(f'Humano escolheu {p} e o pc escolheu {c}')\n",
    "        if (p + c) % 2 == 0 and opt == 'P':\n",
    "            print('O Humano ganhou!')\n",
    "        elif (p + c) % 2 == 0 and opt == 'I':\n",
    "            print('O PC ganhou!')\n",
    "            break\n",
    "        else:\n",
    "            print('O PC ganhou!')\n",
    "            break"
   ]
  },
  {
   "cell_type": "markdown",
   "metadata": {},
   "source": [
    "## Desafio 68 - Guanabara"
   ]
  },
  {
   "cell_type": "code",
   "execution_count": null,
   "metadata": {},
   "outputs": [],
   "source": [
    "from random import randint\n",
    "v = 0\n",
    "while True:\n",
    "    jogador = int (input('Diga um valor: '))\n",
    "    computador = randint(0,10)\n",
    "    total = jogador + computador\n",
    "    tipo = ' '\n",
    "    while tipo not in 'PI':\n",
    "        tipo = str(input('Par ou Ímpar [P/I] ')).strip().upper()[0]\n",
    "    print(f'Você jogou {jogador} e o computador {computador}. Total de {total}')\n",
    "    print('Deu PAR' if total % 2 == 0 else 'Deu ÍMPAR')\n",
    "    if tipo == 'P':\n",
    "        if total % 2 == 0:\n",
    "            print('Você venceu!')\n",
    "            v += 1\n",
    "        else:\n",
    "            print('Você perdeu!')\n",
    "            break\n",
    "    elif tipo == 'I':\n",
    "        if total % 2 == 1:\n",
    "            print('Você venceu!')\n",
    "            v += 1\n",
    "        else:\n",
    "            print('Você perdeu!')\n",
    "            break\n",
    "    print('Vamos jogar novamente...')\n",
    "print(f'Game over. Você venceu {v} vezes.')"
   ]
  },
  {
   "cell_type": "markdown",
   "metadata": {},
   "source": [
    "## Desafio 69"
   ]
  },
  {
   "cell_type": "code",
   "execution_count": null,
   "metadata": {},
   "outputs": [],
   "source": [
    "somaidade = 0\n",
    "mediaidade = 0\n",
    "maioridadehomem = 0\n",
    "nomevelho = ''\n",
    "totmulher20 = 0\n",
    "\n",
    "print ('=-'*20)\n",
    "print ('-------Cadastro IBGE------')\n",
    "print ('=-'*20)\n",
    "\n",
    "while True:\n",
    "    print('------- PESSOA ------')\n",
    "    idade = ''\n",
    "    sexo = ' '\n",
    "    opt = ' '\n",
    "    nome = str(input('Nome: ')).strip().upper()\n",
    "    while idade.isdigit() == False:\n",
    "        idade = str(input('Idade: '))\n",
    "    somaidade += int(idade)\n",
    "    while sexo not in 'MmFf':\n",
    "        sexo = str(input('Sexo[M/F]: ')).strip().upper()[0]\n",
    "        if sexo in 'Mm'and int(idade) > maioridadehomem:\n",
    "            maioridadehomem = int(idade)\n",
    "            nomevelho = nome\n",
    "        if sexo in 'Ff'and int(idade) < 20:\n",
    "            totmulher20 += 1\n",
    "    while opt not in 'SsNn':\n",
    "        opt = str(input('Deseja continuar? [S/N]: ')).strip().upper()[0]\n",
    "    if opt in 'Nn':\n",
    "        break\n",
    "mediaidade = somaidade / 4\n",
    "print ('=-'*20)\n",
    "print('Fim do cadastro')\n",
    "print ('=-'*20)\n",
    "print('A média da idade do grupo é de {} anos.'.format(mediaidade))\n",
    "print('O homem mais velho tem {} anos e se chama {}.'.format(maioridadehomem,nomevelho))\n",
    "print('Ao todo são {} mulheres com menos de 20 anos.'.format(totmulher20))"
   ]
  },
  {
   "cell_type": "markdown",
   "metadata": {},
   "source": [
    "## Desafio 70"
   ]
  },
  {
   "cell_type": "code",
   "execution_count": null,
   "metadata": {},
   "outputs": [],
   "source": [
    "print ('=-'*20)\n",
    "print ('------- LOJA BARATÃO ------')\n",
    "print ('=-'*20)\n",
    "somacompra = 0\n",
    "maismil = 0\n",
    "maisbarato = ''\n",
    "qtdexec = 1\n",
    "while True:\n",
    "    opt = ' '\n",
    "    produto = str(input('Nome do Produto: ')).strip()\n",
    "    preco = float(input('Preço: R$ '))\n",
    "    if preco > 1000:\n",
    "        maismil += 1\n",
    "    somacompra += preco\n",
    "    if qtdexec == 1:\n",
    "        maisbarato = produto\n",
    "        precoatual = preco\n",
    "        qtdexec += 1\n",
    "    else:\n",
    "        if preco < precoatual:\n",
    "            maisbarato = produto\n",
    "            precoatual = preco\n",
    "            qtdexec += 1\n",
    "    while opt not in 'SsNn':\n",
    "        opt = str(input('Deseja continuar? [S/N]: ')).strip().upper()[0]\n",
    "    if opt in 'Nn':\n",
    "        break\n",
    "print('O total gasto foi R$ {:.2f}'.format(somacompra))\n",
    "print(f'Existem {maismil} produtos que custam mais de R$ 1.000,00')\n",
    "print('O produto mais barato é o: {}'.format(maisbarato))\n",
    "precoatual = 0\n",
    "preco = 0"
   ]
  },
  {
   "cell_type": "markdown",
   "metadata": {},
   "source": [
    "## Desafio 71"
   ]
  },
  {
   "cell_type": "code",
   "execution_count": null,
   "metadata": {},
   "outputs": [],
   "source": [
    "nota1 = 0\n",
    "nota10 = 0\n",
    "nota20 = 0\n",
    "nota50 = 0\n",
    "saque = int(input('Digite o valor a ser sacado: '))\n",
    "r1 = int(saque / 50)\n",
    "r2 = int(saque % 50)\n",
    "print (f'Divisao absoluta: {r1} e Resto: {r2}')\n",
    "while r2 != 0:\n",
    "    if r2 >= 20 and r2 < 50:\n",
    "        r2 = r2 - 20\n",
    "        nota20 += 1 \n",
    "    elif r2 >= 10 and r2 < 20:\n",
    "        r2 = r2 - 10\n",
    "        nota10 += 1\n",
    "    elif r2 >= 1 and r2 < 10:\n",
    "        r2 = r2 - 1\n",
    "        nota1 += 1\n",
    "    elif r2 == 0:\n",
    "        break\n",
    "print ('Qtde Notas 50:', r1)\n",
    "print ('Qtde Notas 20:', nota20)\n",
    "print ('Qtde Notas 10:', nota10)\n",
    "print ('Qtde Notas 1:', nota1)"
   ]
  },
  {
   "cell_type": "markdown",
   "metadata": {},
   "source": [
    "## Desafio 71 - Guanabara"
   ]
  },
  {
   "cell_type": "code",
   "execution_count": null,
   "metadata": {},
   "outputs": [],
   "source": [
    "print('='*30)\n",
    "print('{:^30}'.format('BANCO CEV'))\n",
    "print('='*30)\n",
    "val = int(input('Que valor você quer sacar? R$'))\n",
    "totalzao = val\n",
    "ced = 50\n",
    "totced = 0\n",
    "while True:\n",
    "    if totalzao >= ced:\n",
    "        totalzao -= ced\n",
    "        totced += 1\n",
    "    else:\n",
    "        if totced > 0:\n",
    "            print(f'Total de {totced} cedulas de R${ced}')\n",
    "        if ced == 50:\n",
    "            ced = 20\n",
    "        elif ced == 20:\n",
    "            ced = 10\n",
    "        elif ced == 10:\n",
    "            ced = 1\n",
    "        totced = 0\n",
    "        if totalzao == 0:\n",
    "            break\n",
    "print('='*30)\n",
    "print('Volte sempre ao BANCO CEV! Tenha um bom dia!')\n"
   ]
  },
  {
   "cell_type": "code",
   "execution_count": null,
   "metadata": {},
   "outputs": [],
   "source": [
    "val"
   ]
  },
  {
   "cell_type": "code",
   "execution_count": null,
   "metadata": {},
   "outputs": [],
   "source": []
  }
 ],
 "metadata": {
  "kernelspec": {
   "display_name": "Python 3",
   "language": "python",
   "name": "python3"
  },
  "language_info": {
   "codemirror_mode": {
    "name": "ipython",
    "version": 3
   },
   "file_extension": ".py",
   "mimetype": "text/x-python",
   "name": "python",
   "nbconvert_exporter": "python",
   "pygments_lexer": "ipython3",
   "version": "3.8.5"
  }
 },
 "nbformat": 4,
 "nbformat_minor": 4
}
