{
 "cells": [
  {
   "cell_type": "markdown",
   "metadata": {},
   "source": [
    "## Desafio 72"
   ]
  },
  {
   "cell_type": "code",
   "execution_count": 22,
   "metadata": {},
   "outputs": [
    {
     "name": "stdout",
     "output_type": "stream",
     "text": [
      "Digite um número entre 0 e 20: 2\n",
      "Você escolheu o número 2, que por exetenso é: dois\n"
     ]
    }
   ],
   "source": [
    "contagem = ('zero','um','dois','três','quatro','cinco','seis','sete','oito','nove','dez','onze','doze','treze','quatorze','quinze','dezesseis','dezessete','dezoito','dezenove','vinte')\n",
    "while True:\n",
    "    c = int(input('Digite um número entre 0 e 20: '))\n",
    "    if c < 0 or c > 20:\n",
    "        print('Número inválido, digite novamente!')\n",
    "    else:    \n",
    "        print(f'Você escolheu o número {c}, que por exetenso é: {contagem[c]}')\n",
    "        break"
   ]
  },
  {
   "cell_type": "markdown",
   "metadata": {},
   "source": [
    "## Desafio 73"
   ]
  },
  {
   "cell_type": "code",
   "execution_count": 48,
   "metadata": {},
   "outputs": [
    {
     "name": "stdout",
     "output_type": "stream",
     "text": [
      "Os 5 primeiros colocados são:  ('Flamengo', 'Internacional', 'Atlético-MG', 'São Paulo', 'Fluminense')\n",
      "-=-=-=-=-=-=-=-=-=-=-=-=-=-=-=-=-=-=-=-=-=-=-=-=-=-=-=-=-=-=-=-=-=-=-=-=-=-=-=-=-=-=-=-=-=-=-=-=-=-=\n",
      "Os 4 últimos colocados são:  ('Vasco', 'Goiás', 'Coritiba', 'Botafogo')\n",
      "-=-=-=-=-=-=-=-=-=-=-=-=-=-=-=-=-=-=-=-=-=-=-=-=-=-=-=-=-=-=-=-=-=-=-=-=-=-=-=-=-=-=-=-=-=-=-=-=-=-=\n",
      "Times em ordem alfabética: \n",
      " ['Athletico', 'Atlético-GO', 'Atlético-MG', 'Bahia', 'Botafogo', 'Bragantino', 'Ceará', 'Corinthians', 'Coritiba', 'Flamengo', 'Fluminense', 'Fortaleza', 'Goiás', 'Grêmio', 'Internacional', 'Palmeiras', 'Santos', 'Sport', 'São Paulo', 'Vasco']\n",
      "-=-=-=-=-=-=-=-=-=-=-=-=-=-=-=-=-=-=-=-=-=-=-=-=-=-=-=-=-=-=-=-=-=-=-=-=-=-=-=-=-=-=-=-=-=-=-=-=-=-=\n",
      "O Atlético-MG está na 2ª posição.\n"
     ]
    }
   ],
   "source": [
    "times = ('Flamengo','Internacional','Atlético-MG','São Paulo','Fluminense','Grêmio','Palmeiras','Santos','Athletico','Bragantino','Ceará','Corinthians','Atlético-GO','Bahia','Sport','Fortaleza','Vasco','Goiás','Coritiba','Botafogo')\n",
    "#5 Primeiros Colocados:\n",
    "print('Os 5 primeiros colocados são: ',times[0:5])\n",
    "print('-='*50)\n",
    "# Os 4 últimos são:\n",
    "print('Os 4 últimos colocados são: ',times[-4:])\n",
    "print('-='*50)\n",
    "#Lista dos times em ordem alfabética:\n",
    "print('Times em ordem alfabética: \\n',sorted(times))\n",
    "print('-='*50)\n",
    "#Em que posição está Atlético-MG\n",
    "print('O Atlético-MG está na {}ª posição.'.format(times.index('Atlético-MG')))"
   ]
  },
  {
   "cell_type": "markdown",
   "metadata": {},
   "source": [
    "## Desafio 74"
   ]
  },
  {
   "cell_type": "code",
   "execution_count": 2,
   "metadata": {},
   "outputs": [
    {
     "name": "stdout",
     "output_type": "stream",
     "text": [
      "Números sorteados:\n",
      "3 6 0 2 1 \n",
      "O menor é:  0\n",
      "O maior é:  6\n"
     ]
    }
   ],
   "source": [
    "from random import randint\n",
    "a = randint(0,10)\n",
    "b = randint(0,10)\n",
    "c = randint(0,10)\n",
    "d = randint(0,10)\n",
    "e = randint(0,10)\n",
    "tupla = (a,b,c,d,e)\n",
    "print('Números sorteados:')\n",
    "for c in tupla:\n",
    "    print(c, end = ' ')\n",
    "tuplaord = sorted(tupla)\n",
    "print('\\nO menor é: ',tuplaord[0])\n",
    "print('O maior é: ',tuplaord[4])"
   ]
  },
  {
   "cell_type": "markdown",
   "metadata": {},
   "source": [
    "## Desafio 75"
   ]
  },
  {
   "cell_type": "code",
   "execution_count": 36,
   "metadata": {},
   "outputs": [
    {
     "name": "stdout",
     "output_type": "stream",
     "text": [
      "Digite o valor 1: 3\n",
      "Digite o valor 2: 4\n",
      "Digite o valor 3: 6\n",
      "Digite o valor 4: 9\n",
      "O número 3 está na posição: 0.\n",
      "O número 9 apareceu 1 vezes.\n",
      "Os número pares sao 2.\n"
     ]
    }
   ],
   "source": [
    "a = int (input('Digite o valor 1: '))\n",
    "b = int (input('Digite o valor 2: '))\n",
    "c = int (input('Digite o valor 3: '))\n",
    "d = int (input('Digite o valor 4: '))\n",
    "tupla75 = (a,b,c,d)\n",
    "cont9 = 0\n",
    "contpar = 0\n",
    "c = 0 \n",
    "print(f'O número 3 está na posição: {tupla75.index(3)}.')\n",
    "for c in tupla75:\n",
    "    if c == 9:\n",
    "        cont9 += 1\n",
    "    if c % 2 == 0:\n",
    "        contpar += 1\n",
    "print(f'O número 9 apareceu {cont9} vezes.')\n",
    "print(f'Os número pares sao {contpar}.')"
   ]
  },
  {
   "cell_type": "code",
   "execution_count": 30,
   "metadata": {},
   "outputs": [
    {
     "name": "stdout",
     "output_type": "stream",
     "text": [
      "O número 4 é par\n"
     ]
    }
   ],
   "source": [
    "for d in tupla75:\n",
    "    if d % 2 == 0:\n",
    "        print(f'O número {d} é par')\n",
    "        d=+ 1"
   ]
  },
  {
   "cell_type": "code",
   "execution_count": 31,
   "metadata": {},
   "outputs": [
    {
     "data": {
      "text/plain": [
       "(5, 4, 9, 9)"
      ]
     },
     "execution_count": 31,
     "metadata": {},
     "output_type": "execute_result"
    }
   ],
   "source": [
    "tupla75"
   ]
  },
  {
   "cell_type": "code",
   "execution_count": null,
   "metadata": {},
   "outputs": [],
   "source": []
  }
 ],
 "metadata": {
  "kernelspec": {
   "display_name": "Python 3",
   "language": "python",
   "name": "python3"
  },
  "language_info": {
   "codemirror_mode": {
    "name": "ipython",
    "version": 3
   },
   "file_extension": ".py",
   "mimetype": "text/x-python",
   "name": "python",
   "nbconvert_exporter": "python",
   "pygments_lexer": "ipython3",
   "version": "3.8.5"
  }
 },
 "nbformat": 4,
 "nbformat_minor": 4
}
